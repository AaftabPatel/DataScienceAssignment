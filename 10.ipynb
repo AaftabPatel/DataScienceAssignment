{
  "metadata": {
    "language_info": {
      "codemirror_mode": {
        "name": "python",
        "version": 3
      },
      "file_extension": ".py",
      "mimetype": "text/x-python",
      "name": "python",
      "nbconvert_exporter": "python",
      "pygments_lexer": "ipython3",
      "version": "3.8"
    },
    "kernelspec": {
      "name": "python",
      "display_name": "Python (Pyodide)",
      "language": "python"
    }
  },
  "nbformat_minor": 4,
  "nbformat": 4,
  "cells": [
    {
      "cell_type": "raw",
      "source": "Aaftab Patel   IT-2K20-02   M.Tech(IT) - 5th semester   Data Science   Assignment",
      "metadata": {}
    },
    {
      "cell_type": "markdown",
      "source": "**10: DIMENSIONALITY REDUCTION**",
      "metadata": {}
    },
    {
      "cell_type": "markdown",
      "source": "1. Demonstrate How you will Identify Multicollinearity Python",
      "metadata": {}
    },
    {
      "cell_type": "code",
      "source": "import pandas as pd\nfrom statsmodels.stats.outliers_influence import variance_inflation_factor\n\n# the dataset\ndata = pd.read_csv('BMI.csv')\n\n# printing first few rows\nprint(data.head())\n\n\n# creating dummies for gender\ndata['Gender'] = data['Gender'].map({'Male':0, 'Female':1})\n\n# the independent variables set\nX = data[['Gender', 'Height', 'Weight']]\n\n# VIF dataframe\nvif_data = pd.DataFrame()\nvif_data[\"feature\"] = X.columns\n\n# calculating VIF for each feature\nvif_data[\"VIF\"] = [variance_inflation_factor(X.values, i)\n\t\t\t\t\t\tfor i in range(len(X.columns))]\n\nprint(vif_data)",
      "metadata": {
        "trusted": true
      },
      "execution_count": 7,
      "outputs": [
        {
          "name": "stdout",
          "text": "   Gender  Height  Weight  Index\n0    Male     174      96      4\n1    Male     189      87      2\n2  Female     185     110      4\n3  Female     195     104      3\n4    Male     149      61      3\n  feature        VIF\n0  Gender   2.028864\n1  Height  11.623103\n2  Weight  10.688377\n",
          "output_type": "stream"
        }
      ]
    },
    {
      "cell_type": "raw",
      "source": "  Gender  Height  Weight  Index\n0    Male     174      96      4\n1    Male     189      87      2\n2  Female     185     110      4\n3  Female     195     104      3\n4    Male     149      61      3",
      "metadata": {}
    },
    {
      "cell_type": "markdown",
      "source": "Variance Inflation Factor",
      "metadata": {}
    },
    {
      "cell_type": "markdown",
      "source": "2. Demonstrate HOW you’ll apply PRINCIPAL COMPONENTS ANALYSIS Using R/Python",
      "metadata": {}
    },
    {
      "cell_type": "code",
      "source": "# importing required libraries\nimport numpy as np\nimport matplotlib.pyplot as plt\nimport pandas as pd\n# importing or loading the dataset\ndataset = pd.read_csv('wine.csv')\nprint(data.head())\n# distributing the dataset into two components X and Y\nX = dataset.iloc[:, 0:13].values\ny = dataset.iloc[:, 13].values\n\n# Splitting the X and Y into the\n# Training set and Testing set\nfrom sklearn.model_selection import train_test_split\n\nX_train, X_test, y_train, y_test = train_test_split(X, y, test_size = 0.2, random_state = 0)\n\n#feature scaling\n# performing preprocessing part\nfrom sklearn.preprocessing import StandardScaler\nsc = StandardScaler()\n\nX_train = sc.fit_transform(X_train)\nX_test = sc.transform(X_test)\n# Applying PCA function on training\n# and testing set of X component\nfrom sklearn.decomposition import PCA\n\npca = PCA",
      "metadata": {
        "trusted": true
      },
      "execution_count": 9,
      "outputs": []
    },
    {
      "cell_type": "code",
      "source": "(n_components = 2)\n\nX_train = pca.fit_transform(X_train)\nX_test = pca.transform(X_test)\n\nexplained_variance = pca.explained_variance_ratio_\n# Fitting Logistic Regression To the training set\nfrom sklearn.linear_model import LogisticRegression\n\nclassifier = LogisticRegression(random_state = 0)\nclassifier.fit(X_train, y_train)\n\n# Predicting the test set result using\n# predict function under LogisticRegression\ny_pred = classifier.predict(X_test)",
      "metadata": {
        "trusted": true
      },
      "execution_count": 9,
      "outputs": [
        {
          "name": "stdout",
          "text": "   Gender  Height  Weight  Index\n0       0     174      96      4\n1       0     189      87      2\n2       1     185     110      4\n3       1     195     104      3\n4       0     149      61      3\n",
          "output_type": "stream"
        }
      ]
    },
    {
      "cell_type": "code",
      "source": "",
      "metadata": {},
      "execution_count": null,
      "outputs": []
    }
  ]
}