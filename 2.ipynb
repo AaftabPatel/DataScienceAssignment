{
  "metadata": {
    "language_info": {
      "codemirror_mode": {
        "name": "python",
        "version": 3
      },
      "file_extension": ".py",
      "mimetype": "text/x-python",
      "name": "python",
      "nbconvert_exporter": "python",
      "pygments_lexer": "ipython3",
      "version": "3.8"
    },
    "kernelspec": {
      "name": "python",
      "display_name": "Python (Pyodide)",
      "language": "python"
    }
  },
  "nbformat_minor": 4,
  "nbformat": 4,
  "cells": [
    {
      "cell_type": "raw",
      "source": "Aaftab Patel   IT-2K20-012  M.Tech(IT) - 5th semester   Data Science   Assignment",
      "metadata": {}
    },
    {
      "cell_type": "markdown",
      "source": "**2: DATA PREPARATION**\n",
      "metadata": {}
    },
    {
      "cell_type": "markdown",
      "source": "1. How to Add an Index Field Using Python",
      "metadata": {}
    },
    {
      "cell_type": "code",
      "source": "# importing pandas as pd\nimport pandas as pd\n  \n# Creating the DataFrame\ndf = pd.DataFrame({'month': [1, 4, 7, 10],\n                   'year': [2012, 2014, 2013, 2014],\n                   'sale': [55, 40, 84, 31]})\n  \n# Create the index\nindex = ['R1', 'R2', 'R3', 'R4']\n  \n# Set the index\ndf.index = index\n\n  \n# Print the DataFrame\nprint(df)",
      "metadata": {
        "trusted": true
      },
      "execution_count": 2,
      "outputs": [
        {
          "name": "stdout",
          "text": "    month  year  sale\nR1      1  2012    55\nR2      4  2014    40\nR3      7  2013    84\nR4     10  2014    31\n",
          "output_type": "stream"
        }
      ]
    },
    {
      "cell_type": "markdown",
      "source": "2. How to Change Misleading Field Values Using Python",
      "metadata": {}
    },
    {
      "cell_type": "code",
      "source": "# importing pandas as pd\nimport pandas as pd\n  \n# Creating the DataFrame\ndata = pd.DataFrame({\n                    \"Duration\":[0, 1, 2, None, 5], \n                    \"Pulse\":[60, 60, 60, 45, None], \n                    \"Maxpulse\":[110, None, 103, 109, 117], \n                    \"Calories\":[340.0, 479.1, None, 282.4, 406.0],\n                    }) \n\n# replacing missing values in Duration column with mean of that column\ndata['Duration'] = data['Duration'].fillna(data['Duration'].mean())\n  \n# replacing missing values in pulse column with median of that column\ndata['Pulse'] = data['Pulse'].fillna(data['Pulse'].median())\n  \n# replacing missing values in bought column with standard deviation of that column\ndata['Maxpulse'] = data['Maxpulse'].fillna(data['Maxpulse'].std())\n  \n# replacing missing values in Maxpulse column with minimum number of that column\ndata['Calories'] = data['Calories'].fillna(data['Calories'].max())\n  \nprint(data)",
      "metadata": {
        "trusted": true
      },
      "execution_count": 2,
      "outputs": [
        {
          "name": "stdout",
          "text": "   Duration  Pulse    Maxpulse  Calories\n0       0.0   60.0  110.000000     340.0\n1       1.0   60.0    5.737305     479.1\n2       2.0   60.0  103.000000     479.1\n3       2.0   45.0  109.000000     282.4\n4       5.0   60.0  117.000000     406.0\n",
          "output_type": "stream"
        }
      ]
    },
    {
      "cell_type": "markdown",
      "source": "3. How to Reexpress Categorical Field Values Using Python",
      "metadata": {}
    },
    {
      "cell_type": "code",
      "source": "# importing pandas as pd\nimport pandas as pd\n  \n# Creating the DataFrame\ndf = pd.DataFrame({\n                    \"Item\":['I1', 'I2', 'I3', 'I4', 'I5'], \n                    \"price\":[7, 2, 54, 3, None], \n                    \"bought\":[\"Yes\", \"No\", \"Yes\", \"No\", \"No\"], \n                    }) \n\nfor i in df.index:\n    if(df.at[i,'bought'] == 'Yes'):\n        df.at[i,'bought'] = 1\n    else:\n        df.at[i,'bought'] = 0\nprint(df)",
      "metadata": {
        "trusted": true
      },
      "execution_count": 25,
      "outputs": [
        {
          "name": "stdout",
          "text": "  Item  price bought\n0   I1    7.0      1\n1   I2    2.0      0\n2   I3   54.0      1\n3   I4    3.0      0\n4   I5    NaN      0\n",
          "output_type": "stream"
        }
      ]
    },
    {
      "cell_type": "markdown",
      "source": "4. How to Standardize Numeric Fields Using Python\n",
      "metadata": {}
    },
    {
      "cell_type": "code",
      "source": "# Importing the library\nimport pandas as pd\nfrom scipy import stats\n \n#Creating the data frame\ndetails = {\n    'col1': [7, 2, 54, 3, 8],\n    'col2': [7, 4, 35, 14, 56]\n}\n  \n# creating a Dataframe object\ndf = pd.DataFrame(details)\n  \n# Z-Score using scipy\ndf['col2'] = stats.zscore(df['col2'])\n\ndf",
      "metadata": {
        "trusted": true
      },
      "execution_count": 26,
      "outputs": [
        {
          "execution_count": 26,
          "output_type": "execute_result",
          "data": {
            "text/plain": "   col1      col2\n0     7 -0.824387\n1     2 -0.977052\n2    54  0.600480\n3     3 -0.468171\n4     8  1.669130",
            "text/html": "<div>\n<style scoped>\n    .dataframe tbody tr th:only-of-type {\n        vertical-align: middle;\n    }\n\n    .dataframe tbody tr th {\n        vertical-align: top;\n    }\n\n    .dataframe thead th {\n        text-align: right;\n    }\n</style>\n<table border=\"1\" class=\"dataframe\">\n  <thead>\n    <tr style=\"text-align: right;\">\n      <th></th>\n      <th>col1</th>\n      <th>col2</th>\n    </tr>\n  </thead>\n  <tbody>\n    <tr>\n      <th>0</th>\n      <td>7</td>\n      <td>-0.824387</td>\n    </tr>\n    <tr>\n      <th>1</th>\n      <td>2</td>\n      <td>-0.977052</td>\n    </tr>\n    <tr>\n      <th>2</th>\n      <td>54</td>\n      <td>0.600480</td>\n    </tr>\n    <tr>\n      <th>3</th>\n      <td>3</td>\n      <td>-0.468171</td>\n    </tr>\n    <tr>\n      <th>4</th>\n      <td>8</td>\n      <td>1.669130</td>\n    </tr>\n  </tbody>\n</table>\n</div>"
          },
          "metadata": {}
        }
      ]
    },
    {
      "cell_type": "markdown",
      "source": "5. How to Identify Outliers Using Python\n",
      "metadata": {}
    },
    {
      "cell_type": "markdown",
      "source": "we can use z-score, box plot, scatter plot, or IQR to detect and remove outliers from dataset",
      "metadata": {}
    },
    {
      "cell_type": "markdown",
      "source": "Using the IQR, the outlier data points are the ones falling below Q1–1.5 IQR or above Q3 + 1.5 IQR. The Q1 is the 25th percentile and Q3 is the 75th percentile of the dataset, and IQR represents the interquartile range calculated by Q3 minus Q1 (Q3–Q1). ",
      "metadata": {}
    },
    {
      "cell_type": "code",
      "source": "# Importing the library\nimport pandas as pd\nfrom scipy import stats\n#using stats from scipy library\n \n#Creating the data frame\ndetails = {\n    'col1': [7, 2, 54, 3, 8],\n    'col2': [7, 4, 35, 14, 56]\n}\n  \n# creating a Dataframe object\ndf = pd.DataFrame(details)\n  \n# Z-Score using scipy\ndf['col2'] = stats.zscore(df['col2'])\nprint(df)\nfor i in df.index:\n    if(df.at[i,'col2'] ",
      "metadata": {
        "trusted": true
      },
      "execution_count": 35,
      "outputs": []
    },
    {
      "cell_type": "code",
      "source": "> 0):\n        print(df.at[i,'col2'],\"is a Outlier\")",
      "metadata": {
        "trusted": true
      },
      "execution_count": 35,
      "outputs": [
        {
          "name": "stdout",
          "text": "   col1      col2\n0     7 -0.824387\n1     2 -0.977052\n2    54  0.600480\n3     3 -0.468171\n4     8  1.669130\n0.6004797474327168 is a Outlier\n1.6691301454061958 is a Outlier\n",
          "output_type": "stream"
        }
      ]
    },
    {
      "cell_type": "code",
      "source": "",
      "metadata": {},
      "execution_count": null,
      "outputs": []
    }
  ]
}