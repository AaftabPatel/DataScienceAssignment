{
  "metadata": {
    "language_info": {
      "codemirror_mode": {
        "name": "python",
        "version": 3
      },
      "file_extension": ".py",
      "mimetype": "text/x-python",
      "name": "python",
      "nbconvert_exporter": "python",
      "pygments_lexer": "ipython3",
      "version": "3.8"
    },
    "kernelspec": {
      "name": "python",
      "display_name": "Python (Pyodide)",
      "language": "python"
    }
  },
  "nbformat_minor": 4,
  "nbformat": 4,
  "cells": [
    {
      "cell_type": "raw",
      "source": "Aaftab Patel   IT-2K20-02   M.Tech(IT) - 5th semester   Data Science   Assignment",
      "metadata": {}
    },
    {
      "cell_type": "markdown",
      "source": "**4: DATA PREPARATION PHASE TO MODEL THE DATA**",
      "metadata": {}
    },
    {
      "cell_type": "markdown",
      "source": "1. How to Partition the Data Python",
      "metadata": {}
    },
    {
      "cell_type": "code",
      "source": "# import modules\nimport pandas as pd\nfrom sklearn.linear_model import LinearRegression\nfrom sklearn.model_selection import train_test_split\n \n# Creating the DataFrame\ndf = pd.DataFrame({\"A\":[12, 4, 5, None, 1], \n                   \"B\":[7, 2, 54, 3, None], \n                   \"C\":[20, 16, 11, 3, 8], \n                   \"D\":[14, 3, None, 2, 6]}) \n \n# get the locations\nX = df.iloc[:, :-1]\ny = df.iloc[:, -1]\n \n# split the dataset\nX_train, X_test, y_train, y_test = train_test_split(\n    X, y, test_size=0.05, random_state=0)\n\nprint(X_train)\nprint()\nprint(X_test)",
      "metadata": {
        "trusted": true
      },
      "execution_count": 1,
      "outputs": [
        {
          "name": "stdout",
          "text": "      A    B   C\n0  12.0  7.0  20\n1   4.0  2.0  16\n3   NaN  3.0   3\n4   1.0  NaN   8\n\n     A     B   C\n2  5.0  54.0  11\n",
          "output_type": "stream"
        }
      ]
    },
    {
      "cell_type": "markdown",
      "source": "2. How to Balance the Training Data Set Python\n",
      "metadata": {}
    },
    {
      "cell_type": "markdown",
      "source": "A balanced dataset is a dataset where each output class (or target class) is represented by the same number of input samples. Balancing can be performed by exploiting one of the following techniques:\n\n1. oversampling\n2. undersampling\n3. class weight\n4. threshold.",
      "metadata": {}
    },
    {
      "cell_type": "markdown",
      "source": "3. How to Build CART Decision Trees Using Python\n",
      "metadata": {}
    },
    {
      "cell_type": "code",
      "source": "# Importing the required packages\nimport numpy as np\nimport pandas as pd\nfrom sklearn.metrics import confusion_matrix\nfrom sklearn.model_selection import train_test_split\nfrom sklearn.tree import DecisionTreeClassifier\nfrom sklearn.metrics import accuracy_score\nfrom sklearn.metrics import classification_report\n\n# Function importing Dataset\ndef importdata():\n\tbalance_data = pd.DataFrame({\"A\":[1,2,3,4,5], \n                   \"B\":[2,4,6,8,10], \n                   \"C\":[4,8,12,16,20], \n                   \"D\":[3,6,9,12,15]}) \n\t\n\t# Printing the dataswet shape\n\tprint (\"Dataset Length: \", len(balance_data))\n\tprint (\"Dataset Shape: \", balance_data.shape)\n\t\n\t# Printing the dataset obseravtions\n\tprint (\"Dataset: \",balance_data.head())\n\treturn balance_data\n\n# Function to split the dataset\ndef splitdataset(balance_data):\n    # get the locations\n    x = balance_data.iloc[:, :-1]\n    y = balance_data.iloc[:, -1]\n    \n\t# Splitting the dataset into train and test\n    X_train, X_test, y_train, y_test = train_test_split(\n\tx, y, test_size = 0.3, random_state = 100)\n    return x, y, X_train, X_test, y_train, y_test\n\n# Function to perform training with entropy.\ndef tarin_using_entropy(X_train, X_test, y_train):\n\n\t# Decision tree with entropy\n\tclf_entropy = DecisionTreeClassifier(\n\t\t\tcriterion = \"entropy\", random_state = 100,\n\t\t\tmax_depth = 3, min_samples_leaf = 5)\n\n\t# Performing training\n\tclf_entropy.fit(X_train, y_train)\n\treturn clf_entropy\n\n\n# Function to make predictions\ndef prediction(X_test, clf_object):\n\n\t# Predicton on test with giniIndex\n\ty_pred = clf_object.predict(X_test)\n\tprint(\"Predicted values:\")\n\tprint(y_pred)\n\treturn y_pred\n\t\n# Function to calculate accuracy\ndef cal_accuracy(y_test, y_pred):\n\t\n\tprint(\"Confusion Matrix: \",\n\t\tconfusion_matrix(y_test, y_pred))\n\t\n\tprint (\"Accuracy : \",\n\taccuracy_score(y_test,y_pred)*100)\n\t\n\tprint(\"Report : \",\n\tclassification_report(y_test, y_pred))\n\n\n\t\n# Building Phase\ndata = importdata()\nX, Y, X_train, X_test, y_train, y_test = splitdataset(data)\n\nclf_entropy = tarin_using_entropy(X_train, X_test, y_train)\n\nprint(\"Results Using Entropy:\")\n# Prediction using entropy\ny_pred_entropy = prediction(X_test, clf_entropy)\ncal_accuracy(y_test, y_pred_entropy)\n\n",
      "metadata": {},
      "execution_count": null,
      "outputs": [
        {
          "name": "stdout",
          "text": "Dataset Length:  5\nDataset Shape:  (5, 4)\nDataset:     A   B   C   D\n0  1   2   4   3\n1  2   4   8   6\n2  3   6  12   9\n3  4   8  16  12\n4  5  10  20  15\nResults Using Entropy:\nPredicted values:\n[3 3]\nConfusion Matrix:  [[0 0 0]\n [1 0 0]\n [1 0 0]]\nAccuracy :  0.0\n",
          "output_type": "stream"
        },
        {
          "name": "stderr",
          "text": "/lib/python3.10/site-packages/sklearn/metrics/_classification.py:1327: UndefinedMetricWarning: Precision and F-score are ill-defined and being set to 0.0 in labels with no predicted samples. Use `zero_division` parameter to control this behavior.\n  _warn_prf(average, modifier, msg_start, len(result))\n/lib/python3.10/site-packages/sklearn/metrics/_classification.py:1327: UndefinedMetricWarning: Recall and F-score are ill-defined and being set to 0.0 in labels with no true samples. Use `zero_division` parameter to control this behavior.\n  _warn_prf(average, modifier, msg_start, len(result))\n/lib/python3.10/site-packages/sklearn/metrics/_classification.py:1327: UndefinedMetricWarning: Precision and F-score are ill-defined and being set to 0.0 in labels with no predicted samples. Use `zero_division` parameter to control this behavior.\n  _warn_prf(average, modifier, msg_start, len(result))\n/lib/python3.10/site-packages/sklearn/metrics/_classification.py:1327: UndefinedMetricWarning: Recall and F-score are ill-defined and being set to 0.0 in labels with no true samples. Use `zero_division` parameter to control this behavior.\n  _warn_prf(average, modifier, msg_start, len(result))\n/lib/python3.10/site-packages/sklearn/metrics/_classification.py:1327: UndefinedMetricWarning: Precision and F-score are ill-defined and being set to 0.0 in labels with no predicted samples. Use `zero_division` parameter to control this behavior.\n  _warn_prf(average, modifier, msg_start, len(result))\n/lib/python3.10/site-packages/sklearn/metrics/_classification.py:1327: UndefinedMetricWarning: Recall and F-score are ill-defined and being set to 0.0 in labels with no true samples. Use `zero_division` parameter to control this behavior.\n  _warn_prf(average, modifier, msg_start, len(result))\n",
          "output_type": "stream"
        },
        {
          "name": "stdout",
          "text": "Report :                precision    recall  f1-score   support\n\n           3       0.00      0.00      0.00       0.0\n           6       0.00      0.00      0.00       1.0\n           9       0.00      0.00      0.00       1.0\n\n    accuracy                           0.00       2.0\n   macro avg       0.00      0.00      0.00       2.0\nweighted avg       0.00      0.00      0.00       2.0\n\n",
          "output_type": "stream"
        }
      ]
    },
    {
      "cell_type": "markdown",
      "source": "4. How to Build C5.0 Decision Trees Using Python\n",
      "metadata": {}
    },
    {
      "cell_type": "code",
      "source": "# Run this program on your local python\n# interpreter, provided you have installed\n# the required libraries.\n\n# Importing the required packages\nimport numpy as np\nimport pandas as pd\nfrom sklearn.metrics import confusion_matrix\nfrom sklearn.model_selection import train_test_split\nfrom sklearn.tree import DecisionTreeClassifier\nfrom sklearn.metrics import accuracy_score\nfrom sklearn.metrics import classification_report\n\n# Function importing Dataset\ndef importdata():\n\tbalance_data = pd.DataFrame({\"A\":[1,2,3,4,5], \n                   \"B\":[2,4,6,8,10], \n                   \"C\":[4,8,12,16,20], \n                   \"D\":[3,6,9,12,15]}) \n\t\n\t# Printing the dataswet shape\n\tprint (\"Dataset Length: \", len(balance_data))\n\tprint (\"Dataset Shape: \", balance_data.shape)\n\t\n\t# Printing the dataset obseravtions\n\tprint (\"Dataset: \",balance_data.head())\n\treturn balance_data\n\n# Function to split the dataset\ndef splitdataset(balance_data):\n    # get the locations\n    X = balance_data.iloc[:, :-1]\n    y = balance_data.iloc[:, -1]\n    \n\t# Splitting the dataset into train and test\n    X_train, X_test, y_train, y_test = train_test_split(\n\tX, y, test_size = 0.3, random_state = 100)\n    return X, y, X_train, X_test, y_train, y_test\n\n# Function to perform training with giniIndex.\ndef train_using_gini(X_train, X_test, y_train):\n  \n    # Creating the classifier object\n    clf_gini = DecisionTreeClassifier(criterion = \"gini\",\n            random_state = 100,max_depth=3, min_samples_leaf=5)\n  \n    # Performing training\n    clf_gini.fit(X_train, y_train)\n    return clf_gini\n\n\n# Function to make predictions\ndef prediction(X_test, clf_object):\n\n\t# Predicton on test with giniIndex\n\ty_pred = clf_object.predict(X_test)\n\tprint(\"Predicted values:\")\n\tprint(y_pred)\n\treturn y_pred\n\t\n# Function to calculate accuracy\ndef cal_accuracy(y_test, y_pred):\n\t\n\tprint(\"Confusion Matrix: \",\n\t\tconfusion_matrix(y_test, y_pred))\n\t\n\tprint (\"Accuracy : \",\n\taccuracy_score(y_test,y_pred)*100)\n\t\n\tprint(\"Report : \",\n\tclassification_report(y_test, y_pred))\n\n\n\t\n# Building Phase\ndata = importdata()\nX, Y, X_train, X_test, y_train, y_test = splitdataset(data)\n\nclf_gini = train_using_gini(X_train, X_test, y_train)\n\n# Operational Phase\nprint(\"Results Using Gini Index:\")\n\n# Prediction using gini\ny_pred_gini = prediction(X_test, clf_gini)\ncal_accuracy(y_test, y_pred_gini)",
      "metadata": {},
      "execution_count": null,
      "outputs": [
        {
          "name": "stdout",
          "text": "Dataset Length:  5\nDataset Shape:  (5, 4)\nDataset:     A   B   C   D\n0  1   2   4   3\n1  2   4   8   6\n2  3   6  12   9\n3  4   8  16  12\n4  5  10  20  15\nResults Using Gini Index:\nPredicted values:\n[3 3]\nConfusion Matrix:  [[0 0 0]\n [1 0 0]\n [1 0 0]]\nAccuracy :  0.0\n",
          "output_type": "stream"
        },
        {
          "name": "stderr",
          "text": "/lib/python3.10/site-packages/sklearn/metrics/_classification.py:1327: UndefinedMetricWarning: Precision and F-score are ill-defined and being set to 0.0 in labels with no predicted samples. Use `zero_division` parameter to control this behavior.\n  _warn_prf(average, modifier, msg_start, len(result))\n/lib/python3.10/site-packages/sklearn/metrics/_classification.py:1327: UndefinedMetricWarning: Recall and F-score are ill-defined and being set to 0.0 in labels with no true samples. Use `zero_division` parameter to control this behavior.\n  _warn_prf(average, modifier, msg_start, len(result))\n/lib/python3.10/site-packages/sklearn/metrics/_classification.py:1327: UndefinedMetricWarning: Precision and F-score are ill-defined and being set to 0.0 in labels with no predicted samples. Use `zero_division` parameter to control this behavior.\n  _warn_prf(average, modifier, msg_start, len(result))\n/lib/python3.10/site-packages/sklearn/metrics/_classification.py:1327: UndefinedMetricWarning: Recall and F-score are ill-defined and being set to 0.0 in labels with no true samples. Use `zero_division` parameter to control this behavior.\n  _warn_prf(average, modifier, msg_start, len(result))\n/lib/python3.10/site-packages/sklearn/metrics/_classification.py:1327: UndefinedMetricWarning: Precision and F-score are ill-defined and being set to 0.0 in labels with no predicted samples. Use `zero_division` parameter to control this behavior.\n  _warn_prf(average, modifier, msg_start, len(result))\n/lib/python3.10/site-packages/sklearn/metrics/_classification.py:1327: UndefinedMetricWarning: Recall and F-score are ill-defined and being set to 0.0 in labels with no true samples. Use `zero_division` parameter to control this behavior.\n  _warn_prf(average, modifier, msg_start, len(result))\n",
          "output_type": "stream"
        },
        {
          "name": "stdout",
          "text": "Report :                precision    recall  f1-score   support\n\n           3       0.00      0.00      0.00       0.0\n           6       0.00      0.00      0.00       1.0\n           9       0.00      0.00      0.00       1.0\n\n    accuracy                           0.00       2.0\n   macro avg       0.00      0.00      0.00       2.0\nweighted avg       0.00      0.00      0.00       2.0\n\n",
          "output_type": "stream"
        }
      ]
    },
    {
      "cell_type": "markdown",
      "source": "5. How to Build Random Forests Python",
      "metadata": {}
    },
    {
      "cell_type": "code",
      "source": "# Importing the libraries\nimport numpy as np\nimport matplotlib.pyplot as plt\nimport pandas as pd\n\ndf = pd.DataFrame({\"A\":[1,2,3,4,5], \n                   \"B\":[2,4,6,8,10], \n                   \"C\":[3,6,9,12,15], \n                   \"D\":[4,8,12,16,20]}) \n\nx = df.iloc[:, :-1]\ny = df.iloc[:, -1]\n\n# Fitting Random Forest Regression to the dataset\n# import the regressor\nfrom sklearn.ensemble import RandomForestRegressor\n  \n# create regressor object\nregressor = RandomForestRegressor(n_estimators = 100, random_state = 0)\n  \n# fit the regressor with x and y data\nregressor.fit(x, y)  \n\n\nY_pred = regressor.predict(np.array([1, 2, 3]).reshape(1, 3)) # test the output by changing values\n\nY_pred",
      "metadata": {
        "trusted": true
      },
      "execution_count": 4,
      "outputs": [
        {
          "name": "stderr",
          "text": "/lib/python3.10/site-packages/sklearn/base.py:450: UserWarning: X does not have valid feature names, but RandomForestRegressor was fitted with feature names\n  warnings.warn(\n",
          "output_type": "stream"
        },
        {
          "execution_count": 4,
          "output_type": "execute_result",
          "data": {
            "text/plain": "array([6.08])"
          },
          "metadata": {}
        }
      ]
    },
    {
      "cell_type": "code",
      "source": "",
      "metadata": {},
      "execution_count": null,
      "outputs": []
    }
  ]
}