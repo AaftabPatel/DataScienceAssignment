{
  "metadata": {
    "language_info": {
      "codemirror_mode": {
        "name": "python",
        "version": 3
      },
      "file_extension": ".py",
      "mimetype": "text/x-python",
      "name": "python",
      "nbconvert_exporter": "python",
      "pygments_lexer": "ipython3",
      "version": "3.8"
    },
    "kernelspec": {
      "name": "python",
      "display_name": "Python (Pyodide)",
      "language": "python"
    }
  },
  "nbformat_minor": 4,
  "nbformat": 4,
  "cells": [
    {
      "cell_type": "raw",
      "source": "Aaftab Patel  IT-2K20-02   M.Tech(IT) - 5th semester   Data Science   Assignment",
      "metadata": {}
    },
    {
      "cell_type": "markdown",
      "source": "**5: MODEL EVALUATION**",
      "metadata": {}
    },
    {
      "cell_type": "markdown",
      "source": "1. How to Perform Model Evaluation Using Python\n",
      "metadata": {}
    },
    {
      "cell_type": "code",
      "source": "from sklearn.metrics import confusion_matrix\nfrom sklearn.metrics import accuracy_score\nfrom sklearn.metrics import classification_report# Function to calculate accuracy\n\ndef cal_accuracy(y_test, y_pred):\n    print(\"Confusion Matrix : \", confusion_matrix(y_test, y_pred))\n\n    print (\"Accuracy : \", accuracy_score(y_test,y_pred)*100)\n\n    print(\"Report : \", classification_report(y_test, y_pred))",
      "metadata": {
        "trusted": true
      },
      "execution_count": null,
      "outputs": []
    },
    {
      "cell_type": "markdown",
      "source": "2. Accounting for Unequal Error Costs Using Python",
      "metadata": {}
    },
    {
      "cell_type": "markdown",
      "source": "Most machine learning algorithms assume that all misclassification errors made by a model are equal.\n\nThis is often not the case for imbalanced classification problems where missing a positive or minority class case is worse than incorrectly classifying an example from the negative or majority class. There are many real-world examples, such as detecting spam email, diagnosing a medical condition, or identifying fraud. In all of these cases, a false negative (missing a case) is worse or more costly than a false positive.\n\nCost-sensitive learning is a subfield of machine learning that takes the costs of prediction errors (and potentially other costs) into account when training a machine learning model. It is a field of study that is closely related to the field of imbalanced learning that is concerned with classification on datasets with a skewed class distribution. As such, many conceptualizations and techniques developed and used for cost-sensitive learning can be adopted for imbalanced classification problems.",
      "metadata": {}
    }
  ]
}