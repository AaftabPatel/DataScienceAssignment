{
  "metadata": {
    "language_info": {
      "codemirror_mode": {
        "name": "python",
        "version": 3
      },
      "file_extension": ".py",
      "mimetype": "text/x-python",
      "name": "python",
      "nbconvert_exporter": "python",
      "pygments_lexer": "ipython3",
      "version": "3.8"
    },
    "kernelspec": {
      "name": "python",
      "display_name": "Python (Pyodide)",
      "language": "python"
    }
  },
  "nbformat_minor": 4,
  "nbformat": 4,
  "cells": [
    {
      "cell_type": "raw",
      "source": "Aaftab Patel  IT-2K20-012  M.Tech(IT) - 5th semester   Data Science   Assignment",
      "metadata": {}
    },
    {
      "cell_type": "markdown",
      "source": "**6: NAÏVE BAYES CLASSIFICATION**",
      "metadata": {}
    },
    {
      "cell_type": "markdown",
      "source": "1. Demonstrate application of Naïve Bayes Using Python",
      "metadata": {}
    },
    {
      "cell_type": "code",
      "source": "# load the iris dataset\nfrom sklearn.datasets import load_iris\niris = load_iris()\n  \n# store the feature matrix (X) and response vector (y)\nX = iris.data\ny = iris.target\n  \n# splitting X and y into training and testing sets\nfrom sklearn.model_selection import train_test_split\nX_train, X_test, y_train, y_test = train_test_split(X, y, test_size=0.4, random_state=1)\n  \n# training the model on training set\nfrom sklearn.naive_bayes import GaussianNB\ngnb = GaussianNB()\ngnb.fit(X_train, y_train)\n  \n# making predictions on the testing set\ny_pred = gnb.predict(X_test)\n  \n# comparing actual response values (y_test) with predicted response values (y_pred)\nfrom sklearn import metrics\nprint(\"Gaussian Naive Bayes model accuracy(in %):\", metrics.accuracy_score(y_test, y_pred)*100)",
      "metadata": {
        "trusted": true
      },
      "execution_count": 5,
      "outputs": [
        {
          "name": "stdout",
          "text": "Gaussian Naive Bayes model accuracy(in %): 95.0\n",
          "output_type": "stream"
        }
      ]
    },
    {
      "cell_type": "code",
      "source": "",
      "metadata": {},
      "execution_count": null,
      "outputs": []
    }
  ]
}