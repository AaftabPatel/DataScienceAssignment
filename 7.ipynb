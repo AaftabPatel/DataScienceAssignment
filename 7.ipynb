{
  "metadata": {
    "language_info": {
      "codemirror_mode": {
        "name": "python",
        "version": 3
      },
      "file_extension": ".py",
      "mimetype": "text/x-python",
      "name": "python",
      "nbconvert_exporter": "python",
      "pygments_lexer": "ipython3",
      "version": "3.8"
    },
    "kernelspec": {
      "name": "python",
      "display_name": "Python (Pyodide)",
      "language": "python"
    }
  },
  "nbformat_minor": 4,
  "nbformat": 4,
  "cells": [
    {
      "cell_type": "raw",
      "source": "Aaftab Patel   IT-2K20-02   M.Tech(IT) - 5th semester   Data Science   Assignment",
      "metadata": {}
    },
    {
      "cell_type": "markdown",
      "source": "**7: NEURAL NETWORKS**",
      "metadata": {}
    },
    {
      "cell_type": "markdown",
      "source": "1. Demonstrate application of NEURAL NETWORKS using Python",
      "metadata": {}
    },
    {
      "cell_type": "code",
      "source": "#Import python libraries required in this example:\nimport numpy as np\nfrom scipy.special import expit as activation_function\nfrom scipy.stats import truncnorm\n\n# DEFINE THE NETWORK\n# Generate random numbers within a truncated (bounded) \n# normal distribution:\ndef truncated_normal(mean=0, sd=1, low=0, upp=10):\n    return truncnorm((low - mean) / sd, (upp - mean) / sd, loc=mean, scale=sd)\n\n# Create the ‘Nnetwork’ class and define its arguments: \n#Set the number of neurons/nodes for each layer and initialize the weight matrices: \n\nclass Nnetwork:\n    def __init__(self, no_of_in_nodes, no_of_out_nodes, no_of_hidden_nodes, learning_rate):\n        self.no_of_in_nodes = no_of_in_nodes\n        self.no_of_out_nodes = no_of_out_nodes\n        self.no_of_hidden_nodes = no_of_hidden_nodes\n        self.learning_rate = learning_rate \n        self.create_weight_matrices()\n\n    def create_weight",
      "metadata": {
        "trusted": true
      },
      "execution_count": 4,
      "outputs": []
    },
    {
      "cell_type": "code",
      "source": "_matrices(self):\n        \"\"\" A method to initialize the weight matrices of the neural network\"\"\"\n        rad = 1 / np.sqrt(self.no_of_in_nodes)\n        X = truncated_normal(mean=0, sd=1, low=-rad, upp=rad)\n        self.weights_in_hidden = X.rvs((self.no_of_hidden_nodes,\n        self.no_of_in_nodes))\n        rad = 1 / np.sqrt(self.no_of_hidden_nodes)\n        X = truncated_normal(mean=0, sd=1, low=-rad, upp=rad)\n        self.weights_hidden_out = X.rvs((self.no_of_out_nodes,\n        self.no_of_hidden_nodes))\n\n    def train(self, input_vector, target_vector):\n        pass # More work is needed to train the network\n\n    def run(self, input_vector):\n        \"\"\"\n         running the network with an input vector 'input_vector'. \n         'input_vector' can be tuple, list or ndarray\n        \"\"\"\n        # Turn the input vector into a column vector:\n        input_vector = np.array(input_vector, ndmin=2).T\n\n        # activation_function() implements the expit function,\n        # which is an implementation of the sigmoid function:\n        \"\"\"LOGISTIC REGRESSION MODELLING\n        1. How to Perform Logistic Regression Using R/Python\n        2. How to Perform Poisson Regression Using R/Python\n        \"\"\"\n\n        input_hidden = activation_function(self.weights_in_hidden @ input_vector)\n        output_vector = activation_function(self.weights_hidden_out @ input_hidden)\n        return output_vector \n\n# RUN THE NETWORK AND GET A RESULT\n# Initialize an instance of the class: \nsimple_network = Nnetwork(no_of_in_nodes=2, no_of_out_nodes=2, no_of_hidden_nodes=4, learning_rate=0.6)\n\n# Run simple_network for arrays, lists and tuples with shape (2):\n# and get a result:\nsimple_network.run([(3, 4)])",
      "metadata": {
        "trusted": true
      },
      "execution_count": 4,
      "outputs": [
        {
          "execution_count": 4,
          "output_type": "execute_result",
          "data": {
            "text/plain": "array([[0.47018559],\n       [0.53719891]])"
          },
          "metadata": {}
        }
      ]
    },
    {
      "cell_type": "code",
      "source": "",
      "metadata": {},
      "execution_count": null,
      "outputs": []
    }
  ]
}