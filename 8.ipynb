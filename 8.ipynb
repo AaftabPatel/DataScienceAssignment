{
  "metadata": {
    "language_info": {
      "codemirror_mode": {
        "name": "python",
        "version": 3
      },
      "file_extension": ".py",
      "mimetype": "text/x-python",
      "name": "python",
      "nbconvert_exporter": "python",
      "pygments_lexer": "ipython3",
      "version": "3.8"
    },
    "kernelspec": {
      "name": "python",
      "display_name": "Python (Pyodide)",
      "language": "python"
    }
  },
  "nbformat_minor": 4,
  "nbformat": 4,
  "cells": [
    {
      "cell_type": "raw",
      "source": "Aaftab Patel  IT-2K20-02   M.Tech(IT) - 5th semester   Data Science   Assignment",
      "metadata": {}
    },
    {
      "cell_type": "markdown",
      "source": "**8: CLUSTERING**",
      "metadata": {}
    },
    {
      "cell_type": "markdown",
      "source": "1. Demonstrate application of k‐MEANS CLUSTERING Using Python",
      "metadata": {}
    },
    {
      "cell_type": "markdown",
      "source": "**Read Data**",
      "metadata": {}
    },
    {
      "cell_type": "code",
      "source": "def ReadData(fileName):",
      "metadata": {
        "trusted": true
      },
      "execution_count": 1,
      "outputs": []
    },
    {
      "cell_type": "code",
      "source": "\t# Read the file, splitting by lines\n\tf = open(fileName, 'r');\n\tlines = f.read().splitlines();\n\tf.close();\n\n\titems = [];\n\n\tfor i in range(1, len(lines)):\n\t\tline = lines[i].split(',');\n\t\titemFeatures = [];\n\n\t\tfor j in range(len(line)-1):\n\t\t\t\n\t\t\t# Convert feature value to float\n\t\t\tv = float(line[j]);\n\t\t\t\n\t\t\t# Add feature value to dict\n\t\t\titemFeatures.append(v);\n\n\t\titems.append(itemFeatures);\n\n\tshuffle(items);\n\n\treturn items;",
      "metadata": {
        "trusted": true
      },
      "execution_count": 1,
      "outputs": []
    },
    {
      "cell_type": "markdown",
      "source": "**Finding min and max**",
      "metadata": {}
    },
    {
      "cell_type": "code",
      "source": "def FindColMinMax(items):\n\tn = len(items[0]);\n\tminima = [sys.maxint for i in range(n)];\n\tmaxima = [-sys.maxint -1 for i in range(n)];\n\t\n\tfor item in items:\n\t\tfor f in range(len(item)):\n\t\t\tif (item[f] < minima[f]):\n\t\t\t\tminima[f] = item[f];\n\t\t\t\n\t\t\tif (item[f] > maxima[f]):\n\t\t\t\tmaxima[f] = item[f];\n\n    return minima,maxima;",
      "metadata": {
        "trusted": true
      },
      "execution_count": null,
      "outputs": []
    },
    {
      "cell_type": "markdown",
      "source": "**Initialize Means**",
      "metadata": {}
    },
    {
      "cell_type": "code",
      "source": "def InitializeMeans(items, k, cMin, cMax):\n\n\t# Initialize means to random numbers between\n\t# the min and max of each column/feature\t\n\tf = len(items[0]); # number of features\n\tmeans = [[0 for i in range(f)] for j in range(k)];\n\t\n\tfor mean in means:\n\t\tfor i in range(len(mean)):\n\n\t\t\t# Set value to a random float\n\t\t\t# (adding +-1 to avoid a wide placement of a mean)\n\t\t\tmean[i] = uniform(cMin[i]+1, cMax[i]-1);\n\n\treturn means;",
      "metadata": {
        "trusted": true
      },
      "execution_count": 3,
      "outputs": []
    },
    {
      "cell_type": "markdown",
      "source": "**Euclidean Distance**",
      "metadata": {}
    },
    {
      "cell_type": "code",
      "source": "def EuclideanDistance(x, y):\n\tS = 0; # The sum of the squared differences of the elements\n\tfor i in range(len(x)):\n\t\tS += math.pow(x[i]-y[i], 2)\n\n\t#The square root of the sum\n\treturn math.sqrt(S)",
      "metadata": {
        "trusted": true
      },
      "execution_count": 4,
      "outputs": []
    },
    {
      "cell_type": "markdown",
      "source": "**Update Means**",
      "metadata": {}
    },
    {
      "cell_type": "code",
      "source": "def UpdateMean(n,mean,item):\n\tfor i in range(len(mean)):\n\t\tm = mean[i];\n\t\tm = (m*(n-1)+item[i])/float(n);\n\t\tmean[i] = round(m, 3);\n\t\n\treturn mean;",
      "metadata": {
        "trusted": true
      },
      "execution_count": 5,
      "outputs": []
    },
    {
      "cell_type": "markdown",
      "source": "**Classify Items**",
      "metadata": {}
    },
    {
      "cell_type": "code",
      "source": "def Classify(means,item):\n\n\t# Classify item to the mean with minimum distance\t\n\tminimum = sys.maxint;\n\tindex = -1;\n\n\tfor i in range(len(means)):\n\n\t\t# Find distance from item to mean\n\t\tdis = EuclideanDistance(item, means[i]);\n\n\t\tif (dis < minimum):\n\t\t\tminimum = dis;\n\t\t\tindex = i;\n\t\n\treturn index;",
      "metadata": {
        "trusted": true
      },
      "execution_count": 6,
      "outputs": []
    },
    {
      "cell_type": "markdown",
      "source": "**Find Means**",
      "metadata": {}
    },
    {
      "cell_type": "code",
      "source": "def CalculateMeans(k,items,maxIterations=100000):\n\n\t# Find the minima and maxima for columns\n\tcMin, cMax = FindColMinMax(items);\n\t\n\t# Initialize means at random points\n\tmeans = InitializeMeans(items,k,cMin,cMax);\n\t\n\t# Initialize clusters, the array to hold\n\t# the number of items in a class\n\tclusterSizes= [0 for i in range(len(means))];\n\n\t# An array to hold the cluster an item is in\n\tbelongsTo = [0 for i in range(len(items))];\n\n\t# Calculate means\n\tfor e in range(maxIterations):\n\n\t\t# If no change of cluster occurs, halt\n\t\tnoChange = True;\n\t\tfor i in range(len(items)):\n\n\t\t\titem = items[i];\n\n\t\t\t# Classify item into a cluster and update the\n\t\t\t# corresponding means.\t\t\n\t\t\tindex = Classify(means,item);\n\n\t\t\tclusterSizes[index] += 1;\n\t\t\tcSize = clusterSizes[index];\n\t\t\tmeans[index] = UpdateMean(cSize,means[index],item);\n\n\t\t\t# Item changed cluster\n\t\t\tif(index != belongsTo[i]):\n\t\t\t\tnoChange = False;\n\n\t\t\tbelongsTo[i] = index;\n\n\t\t# Nothing changed, return\n\t\tif (noChange):\n\t\t\tbreak;\n\n\treturn means;",
      "metadata": {
        "trusted": true
      },
      "execution_count": 7,
      "outputs": []
    },
    {
      "cell_type": "markdown",
      "source": "**Find Clusters**",
      "metadata": {}
    },
    {
      "cell_type": "code",
      "source": "def FindClusters(means,items):\n\tclusters = [[] for i in range(len(means))]; # Init clusters\n\t\n\tfor item in items:\n\n\t\t# Classify item into a cluster\n\t\tindex = Classify(means,item);\n\n\t\t# Add item to cluster\n\t\tclusters[index].append(item);\n\n\treturn clusters;",
      "metadata": {
        "trusted": true
      },
      "execution_count": 8,
      "outputs": []
    },
    {
      "cell_type": "code",
      "source": "",
      "metadata": {},
      "execution_count": null,
      "outputs": []
    }
  ]
}